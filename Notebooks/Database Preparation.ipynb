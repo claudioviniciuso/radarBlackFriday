{
 "cells": [
  {
   "cell_type": "markdown",
   "metadata": {},
   "source": [
    "### Project - Radar Black Friday\n",
    "\n",
    "Projeto que tem como principal objetivo coletar diariamente os preços de produtos vendidos pelas principais lojas ecommerce do Brasil e acompanhar se realmente existe uma redução de preço no famoso evento Black Friday."
   ]
  },
  {
   "cell_type": "markdown",
   "metadata": {},
   "source": [
    "#### Purpose of this notebook\n",
    "Neste notebook você encontrará todas as etapas de configuração e criação de tabelas do Banco de Dados SQLite que será utilizado nesse projeto. \n",
    "\n",
    "#### Etapas:\n",
    "* Step 1 - Conexão com Banco de Dados\n",
    "* Step 2 - Criação das Tabelas\n",
    "\n",
    ">Este notebook não tem fins educativos, portanto será explicado o conceito dos métodos ou funções, somente o objetivo das etapas.\n"
   ]
  },
  {
   "cell_type": "code",
   "execution_count": 1,
   "metadata": {},
   "outputs": [],
   "source": [
    "# IMPORTAÇÃO DAS LIBS\n",
    "\n",
    "import sqlite3 # -- SQLite 3 - Banco de Dados\n",
    "import os # -- OS para manipular arquivos do SO"
   ]
  },
  {
   "cell_type": "markdown",
   "metadata": {},
   "source": [
    "#### Step 1 - Conexão com Banco de Dados"
   ]
  },
  {
   "cell_type": "code",
   "execution_count": 4,
   "metadata": {},
   "outputs": [],
   "source": [
    "# Criar Banco de Dados chamado radarBlackFriday\n",
    "\n",
    "cnn = sqlite3.connect(\"radarBlackFriday.db\")\n",
    "cursor = cnn.cursor()"
   ]
  },
  {
   "cell_type": "markdown",
   "metadata": {},
   "source": [
    "#### Step 2 - Criação das Tabelas"
   ]
  },
  {
   "cell_type": "markdown",
   "metadata": {},
   "source": [
    "**Tabela:** log_exec<br>\n",
    "Tabela onde serão armazenados os registros das etapas do processo de scraping para avaliação de erros e tempo de execução.\n",
    "\n",
    "column   | type | description\n",
    ":--------- |:--------- |:------\n",
    "id | int | ID do registro\n",
    "dt_reg | datetime | Data e hora do inicio do processo\n",
    "ds_step | varchar (50) | Descrição da etapa que está sendo executada\n"
   ]
  },
  {
   "cell_type": "code",
   "execution_count": 13,
   "metadata": {
    "scrolled": false
   },
   "outputs": [
    {
     "data": {
      "text/plain": [
       "<sqlite3.Cursor at 0x2e5f7b58880>"
      ]
     },
     "execution_count": 13,
     "metadata": {},
     "output_type": "execute_result"
    }
   ],
   "source": [
    "#Query de criação da tabela\n",
    "query = \"\"\"\n",
    "        CREATE TABLE log_exec (\n",
    "            id INTEGER PRIMARY KEY AUTOINCREMENT\n",
    "            ,dt_reg datetime\n",
    "            ,ds_step varchar(50)\n",
    "        )\n",
    "        \"\"\"\n",
    "\n",
    "#Execução\n",
    "cursor.execute(query)"
   ]
  },
  {
   "cell_type": "markdown",
   "metadata": {},
   "source": [
    "**Tabela:** log_insert_db<br>\n",
    "Tabela onde será armazenado o LOG da etapa de Insert no Banco de Dados..\n",
    "\n",
    "column   | type | description\n",
    ":--------- |:--------- |:------\n",
    "id | int | ID do registro\n",
    "dt_start | datetime | Data e hora do inicio do processo\n",
    "dt_end | datetime | Data e hora do final do processo\n",
    "qt_success | int | Quantidade de Registros importados com Sucesso\n",
    "qt_failure | int | Quantidade de Registros não importados por Falha. \n"
   ]
  },
  {
   "cell_type": "code",
   "execution_count": 14,
   "metadata": {},
   "outputs": [
    {
     "data": {
      "text/plain": [
       "<sqlite3.Cursor at 0x2e5f7b58880>"
      ]
     },
     "execution_count": 14,
     "metadata": {},
     "output_type": "execute_result"
    }
   ],
   "source": [
    "#Query de criação da tabela\n",
    "query = \"\"\"\n",
    "        CREATE TABLE log_insert_db (\n",
    "            id INTEGER PRIMARY KEY AUTOINCREMENT\n",
    "            ,dt_start datetime\n",
    "            ,dt_end datetime\n",
    "            ,qt_success int\n",
    "            ,qt_failure int\n",
    "        )\n",
    "        \"\"\"\n",
    "\n",
    "#Execução\n",
    "cursor.execute(query)"
   ]
  },
  {
   "cell_type": "markdown",
   "metadata": {},
   "source": [
    "**Tabela:** log_scraping<br>\n",
    "Tabela onde será armazenado o LOG dos links que estão sendo analisados..\n",
    "\n",
    "column   | type | description\n",
    ":--------- |:--------- |:------\n",
    "id | int | ID do registro\n",
    "dt_insert | datetime | Data e hora do registro.\n",
    "link_scraping | varchar (500) | Link que está sendo raspado.\n",
    "status_exec | varchar(20) | Status da raspagem.\n",
    "qt_prices | int | Quantidade de preços encontrados na página.\n"
   ]
  },
  {
   "cell_type": "code",
   "execution_count": 15,
   "metadata": {},
   "outputs": [
    {
     "data": {
      "text/plain": [
       "<sqlite3.Cursor at 0x2e5f7b58880>"
      ]
     },
     "execution_count": 15,
     "metadata": {},
     "output_type": "execute_result"
    }
   ],
   "source": [
    "#Query de criação da tabela\n",
    "query = \"\"\"\n",
    "        CREATE TABLE log_scraping (\n",
    "            id INTEGER PRIMARY KEY AUTOINCREMENT\n",
    "            ,dt_insert datetime\n",
    "            ,link_scraping varchar(500)\n",
    "            ,status_exec varchar(20)\n",
    "            ,qt_prices int\n",
    "        )\n",
    "        \"\"\"\n",
    "\n",
    "#Execução\n",
    "cursor.execute(query)"
   ]
  },
  {
   "cell_type": "markdown",
   "metadata": {},
   "source": [
    "**Tabela:** scraping_results<br>\n",
    "Tabela onde será armazenado o resultado da raspagem.\n",
    "\n",
    "column   | type | description\n",
    ":--------- |:--------- |:------\n",
    "id | int | ID do registro\n",
    "dt_insert | datetime | Data e hora do registro.\n",
    "ds_category | varchar (50) | Categoria do Produto\n",
    "ds_subcategory | varchar (50) | Sub-categoria do Produto.\n",
    "ds_product | varchar (500) | Descrição do Produto\n",
    "ds_ecommerce | varchar (50) | Nome da loja\n",
    "price | numeric(10,2) | Valor do Produto"
   ]
  },
  {
   "cell_type": "code",
   "execution_count": 16,
   "metadata": {},
   "outputs": [
    {
     "data": {
      "text/plain": [
       "<sqlite3.Cursor at 0x2e5f7b58880>"
      ]
     },
     "execution_count": 16,
     "metadata": {},
     "output_type": "execute_result"
    }
   ],
   "source": [
    "#Query de criação da tabela\n",
    "query = \"\"\"\n",
    "        CREATE TABLE scraping_results (\n",
    "            id INTEGER PRIMARY KEY AUTOINCREMENT\n",
    "            ,dt_insert datetime\n",
    "            ,ds_category varchar(50)\n",
    "            ,ds_subcategory varchar(50)\n",
    "            ,ds_product varchar(500)\n",
    "            ,ds_ecommerce varchar(50)\n",
    "            ,price numeric(10,2)\n",
    "        )\n",
    "        \"\"\"\n",
    "\n",
    "#Execução\n",
    "cursor.execute(query)"
   ]
  }
 ],
 "metadata": {
  "kernelspec": {
   "display_name": "Python 3",
   "language": "python",
   "name": "python3"
  },
  "language_info": {
   "codemirror_mode": {
    "name": "ipython",
    "version": 3
   },
   "file_extension": ".py",
   "mimetype": "text/x-python",
   "name": "python",
   "nbconvert_exporter": "python",
   "pygments_lexer": "ipython3",
   "version": "3.8.8"
  }
 },
 "nbformat": 4,
 "nbformat_minor": 4
}
