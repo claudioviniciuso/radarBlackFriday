{
 "cells": [
  {
   "cell_type": "markdown",
   "metadata": {},
   "source": [
    "### Project - Radar Black Friday\n",
    "\n",
    "Projeto que tem como principal objetivo coletar diariamente os preços de produtos vendidos pelas principais lojas ecommerce do Brasil e acompanhar se realmente existe uma redução de preço no famoso evento Black Friday."
   ]
  },
  {
   "cell_type": "markdown",
   "metadata": {},
   "source": [
    "#### Purpose of this notebook\n",
    "Neste notebook você encontrará a etapa de coleta dos links que serão raspados.<br>\n",
    "\n",
    "<img src=\"processo_scraping.png\">\n",
    "\n",
    "Por questões de privacidade do site que foi raspado, os links oficiais foram retirados deste notebook para que não seja reproduzido. \n",
    "\n",
    ">Este notebook não tem fins educativos, portanto não será explicado o conceito dos métodos ou funções, somente o objetivo das etapas.\n"
   ]
  },
  {
   "cell_type": "code",
   "execution_count": 2,
   "metadata": {},
   "outputs": [],
   "source": [
    "# IMPORTAÇÃO DAS LIBS\n",
    "\n",
    "from urllib.request import urlopen, Request #URL Lib para acessar link que será feito o Scraping\n",
    "import bs4 #BeautifulSoup para analisar página HTML\n",
    "import pandas as pd #Pandas para analisar os dados e armazenar em DataFrma"
   ]
  },
  {
   "cell_type": "code",
   "execution_count": null,
   "metadata": {},
   "outputs": [],
   "source": [
    "#Lista que será utilizada para análise dos produtos\n",
    "lst_links_raiz = []\n",
    "lst_links_raiz.append(['https://www.site.com.br/celular/smartphone', 'Celulares e Telefones', 'Smartphone'])\n",
    "lst_links_raiz.append(['https://www.site.com.br/smartwatch', 'Celulares e Telefones', 'Smartwatch'])\n",
    "\n",
    "print(lst_links_raiz[0])"
   ]
  },
  {
   "cell_type": "code",
   "execution_count": null,
   "metadata": {},
   "outputs": [],
   "source": [
    "#Função para coletar os links\n",
    "\n",
    "def coletarLinksProdutos(list_links):\n",
    "    \n",
    "    #lista vazia onde serão armazenados os links\n",
    "    list_links_prd = []\n",
    "    \n",
    "    #Loop para percorrer todos os links raiz\n",
    "    for link_raiz in list_links:\n",
    "    \n",
    "        #URL Open ler página HTML e armazena na variável data\n",
    "        data = urlopen(link_raiz[0]).read()\n",
    "\n",
    "        #Adicionamos a variável data no bs4 para e em seguida localiza a classe da tag <a> que contém o link do produto\n",
    "        soup = bs4.BeautifulSoup(data, features=\"html.parser\")\n",
    "        links_prod = soup.findAll('a', {'class' : 'Cell_Content__1630r'})\n",
    "\n",
    "        #A página tem 3 links promocionais no inicio da lista que direcionam para outro site. Esse contador irá ajudar a ignora-los. \n",
    "        x = 0\n",
    "\n",
    "        #Loop para navegar em todos os links do BS4\n",
    "        for link in links_prod:\n",
    "            #Se contador for maior ou igual a 3 ele realiza a operação. Assim retira as Páginas que não devem ser navegadas.\n",
    "            if x >= 3: \n",
    "                #Adiciona os links localizados na lista\n",
    "                list_links_prd.append(['https://www.site.com.br' + link.get('href'), link_raiz[1], link_raiz[2]])\n",
    "\n",
    "            #Aumenta o contador\n",
    "            x += 1\n",
    "    return list_links_prd"
   ]
  },
  {
   "cell_type": "code",
   "execution_count": null,
   "metadata": {},
   "outputs": [],
   "source": [
    "#Executa Função \n",
    "list_links_prod = coletarLinksProdutos(lst_links_raiz)\n",
    "\n",
    "#Quantidade de links coletados\n",
    "print(len(list_links_prod))"
   ]
  },
  {
   "cell_type": "code",
   "execution_count": null,
   "metadata": {},
   "outputs": [],
   "source": [
    "#Adicionar a lista no Dataframe e depois exporta o arquivo csv que será utilizado em outro notebook.\n",
    "\n",
    "df_links = pd.DataFrame(list_links_prod, columns=['link', 'categoria', 'subcategoria'])\n",
    "df_links.to_csv('list_links_20.csv', index=False)"
   ]
  }
 ],
 "metadata": {
  "kernelspec": {
   "display_name": "Python 3",
   "language": "python",
   "name": "python3"
  },
  "language_info": {
   "codemirror_mode": {
    "name": "ipython",
    "version": 3
   },
   "file_extension": ".py",
   "mimetype": "text/x-python",
   "name": "python",
   "nbconvert_exporter": "python",
   "pygments_lexer": "ipython3",
   "version": "3.8.8"
  }
 },
 "nbformat": 4,
 "nbformat_minor": 4
}
